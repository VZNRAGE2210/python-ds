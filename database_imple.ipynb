{
 "cells": [
  {
   "cell_type": "code",
   "execution_count": 3,
   "metadata": {},
   "outputs": [],
   "source": [
    "from database import User,Message\n",
    "from database import get_db,save_to_db\n"
   ]
  },
  {
   "cell_type": "code",
   "execution_count": 4,
   "metadata": {},
   "outputs": [
    {
     "name": "stdout",
     "output_type": "stream",
     "text": [
      "<database.User object at 0x000002954FB9BF90> <database.User object at 0x000002954F40F550> <database.User object at 0x000002954F40FC50> <database.User object at 0x000002954FBA8F90>\n"
     ]
    }
   ],
   "source": [
    "u1 = User(name =\"alex\",email=\"alex@gmail.com\",password=\"1231\")\n",
    "u2 = User(name =\"ali\",email=\"ali@gmail.com\",password=\"1234\")\n",
    "u3 = User(name =\"anuj\",email=\"anuj@gmail.com\",password=\"1235\")\n",
    "u4 = User(name =\"akchat\",email=\"akchat@gmail.com\",password=\"1236\")\n",
    "print(u1,u2,u3,u4)"
   ]
  },
  {
   "cell_type": "code",
   "execution_count": 5,
   "metadata": {},
   "outputs": [],
   "source": [
    "save_to_db(u1)\n",
    "save_to_db(u2)\n",
    "save_to_db(u3)\n",
    "save_to_db(u4)"
   ]
  },
  {
   "cell_type": "code",
   "execution_count": 7,
   "metadata": {},
   "outputs": [],
   "source": [
    "m1 = Message(user_id= \"1\",Message=\"oni-chan\")\n",
    "m2 = Message(user_id= \"2\",Message=\"sayonara\")\n",
    "m3 = Message(user_id= \"3\",Message=\"konichiwa\")\n",
    "m4 = Message(user_id= \"4\",Message=\"arigato\")"
   ]
  },
  {
   "cell_type": "code",
   "execution_count": 8,
   "metadata": {},
   "outputs": [],
   "source": [
    "save_to_db(m1)\n",
    "save_to_db(m2)\n",
    "save_to_db(m3)\n",
    "save_to_db(m4)\n"
   ]
  },
  {
   "cell_type": "markdown",
   "metadata": {},
   "source": [
    "retrive data from table"
   ]
  },
  {
   "cell_type": "code",
   "execution_count": 9,
   "metadata": {},
   "outputs": [
    {
     "name": "stdout",
     "output_type": "stream",
     "text": [
      "2\n",
      "ali\n",
      "ali@gmail.com\n",
      "1234\n",
      "2024-04-05 20:42:48.229956\n"
     ]
    },
    {
     "name": "stderr",
     "output_type": "stream",
     "text": [
      "C:\\Users\\achin\\AppData\\Local\\Temp\\ipykernel_7244\\1485008098.py:3: LegacyAPIWarning: The Query.get() method is considered legacy as of the 1.x series of SQLAlchemy and becomes a legacy construct in 2.0. The method is now available as Session.get() (deprecated since: 2.0) (Background on SQLAlchemy 2.0 at: https://sqlalche.me/e/b8d9)\n",
      "  user=db.query(User).get(uid)\n"
     ]
    }
   ],
   "source": [
    "\n",
    "db=get_db()\n",
    "uid=2\n",
    "user=db.query(User).get(uid)\n",
    "print(user.id)\n",
    "print(user.name)\n",
    "print(user.email)\n",
    "print(user.password)\n",
    "print(user.create_at)\n",
    "db.close()"
   ]
  },
  {
   "cell_type": "code",
   "execution_count": 10,
   "metadata": {},
   "outputs": [
    {
     "name": "stdout",
     "output_type": "stream",
     "text": [
      "1 alex alex@gmail.com\n",
      "2 ali ali@gmail.com\n",
      "3 anuj anuj@gmail.com\n",
      "4 akchat akchat@gmail.com\n"
     ]
    }
   ],
   "source": [
    "db=get_db()\n",
    "users=db.query(User).all()\n",
    "for user in users:\n",
    "    print(user.id,user.name,user.email)\n",
    "db.close()    "
   ]
  },
  {
   "cell_type": "code",
   "execution_count": null,
   "metadata": {},
   "outputs": [],
   "source": []
  }
 ],
 "metadata": {
  "kernelspec": {
   "display_name": "base",
   "language": "python",
   "name": "python3"
  },
  "language_info": {
   "codemirror_mode": {
    "name": "ipython",
    "version": 3
   },
   "file_extension": ".py",
   "mimetype": "text/x-python",
   "name": "python",
   "nbconvert_exporter": "python",
   "pygments_lexer": "ipython3",
   "version": "3.11.5"
  }
 },
 "nbformat": 4,
 "nbformat_minor": 2
}
