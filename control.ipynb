{
 "cells": [
  {
   "cell_type": "code",
   "execution_count": 6,
   "metadata": {},
   "outputs": [
    {
     "name": "stdout",
     "output_type": "stream",
     "text": [
      "better luck next time\n",
      "the end\n"
     ]
    }
   ],
   "source": [
    "x = int(input(\"give me a number\"))\n",
    "if x>=10:\n",
    "    print('hurray!!!')\n",
    "else:\n",
    "    print('better luck next time')\n",
    "print('the end')    "
   ]
  },
  {
   "cell_type": "code",
   "execution_count": 7,
   "metadata": {},
   "outputs": [
    {
     "name": "stdout",
     "output_type": "stream",
     "text": [
      "even\n"
     ]
    }
   ],
   "source": [
    "if x%2 ==0:\n",
    "    print('even')\n"
   ]
  },
  {
   "cell_type": "code",
   "execution_count": 9,
   "metadata": {},
   "outputs": [
    {
     "name": "stdout",
     "output_type": "stream",
     "text": [
      "we can buy it\n"
     ]
    }
   ],
   "source": [
    "price = 1000\n",
    "if price > 2500:\n",
    "    print('expensive')\n",
    "else:\n",
    "    print('we can buy it')\n"
   ]
  },
  {
   "cell_type": "code",
   "execution_count": 20,
   "metadata": {},
   "outputs": [
    {
     "name": "stdout",
     "output_type": "stream",
     "text": [
      "789/600=131.50%\n",
      "grade: a\n"
     ]
    }
   ],
   "source": [
    "marks = int(input('enter your marks'))\n",
    "total= 600\n",
    "pct = marks/total*100\n",
    "print(f'{marks}/{total}={pct:.2f}%')\n",
    "if pct > 90:\n",
    "    grade ='a'\n",
    "elif pct >=75:\n",
    "    grade = \"b\"\n",
    "elif pct >=60:\n",
    "    grade ='c'\n",
    "elif pct >= 40:\n",
    "    grade ='D'\n",
    "else:\n",
    "    grade='F'\n",
    "print(f'grade: {grade}')            \n",
    "\n",
    "\n"
   ]
  },
  {
   "cell_type": "code",
   "execution_count": 23,
   "metadata": {},
   "outputs": [
    {
     "name": "stdout",
     "output_type": "stream",
     "text": [
      "what is the ccapital of bihar?\n",
      "invalid answer\n"
     ]
    }
   ],
   "source": [
    "print(\"what is the capital of bihar?\")\n",
    "ans = input('your answer:')\n",
    "match ans:\n",
    "    case 'delhi':\n",
    "        print('incorrect')\n",
    "    case \"patna\"|\"Patna\":\n",
    "        print(\"correct\")\n",
    "    case _:\n",
    "        print('invalid answer')\n",
    "       "
   ]
  },
  {
   "cell_type": "markdown",
   "metadata": {},
   "source": [
    "LOOPS\n",
    "- Iteration based for \n",
    "-condition based while"
   ]
  },
  {
   "cell_type": "code",
   "execution_count": null,
   "metadata": {},
   "outputs": [],
   "source": []
  }
 ],
 "metadata": {
  "kernelspec": {
   "display_name": "Python 3",
   "language": "python",
   "name": "python3"
  },
  "language_info": {
   "codemirror_mode": {
    "name": "ipython",
    "version": 3
   },
   "file_extension": ".py",
   "mimetype": "text/x-python",
   "name": "python",
   "nbconvert_exporter": "python",
   "pygments_lexer": "ipython3",
   "version": "3.11.5"
  }
 },
 "nbformat": 4,
 "nbformat_minor": 2
}
