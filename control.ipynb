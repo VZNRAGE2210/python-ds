{
 "cells": [
  {
   "cell_type": "code",
   "execution_count": 6,
   "metadata": {},
   "outputs": [
    {
     "name": "stdout",
     "output_type": "stream",
     "text": [
      "better luck next time\n",
      "the end\n"
     ]
    }
   ],
   "source": [
    "x = int(input(\"give me a number\"))\n",
    "if x>=10:\n",
    "    print('hurray!!!')\n",
    "else:\n",
    "    print('better luck next time')\n",
    "print('the end')    "
   ]
  },
  {
   "cell_type": "code",
   "execution_count": 7,
   "metadata": {},
   "outputs": [
    {
     "name": "stdout",
     "output_type": "stream",
     "text": [
      "even\n"
     ]
    }
   ],
   "source": [
    "if x%2 ==0:\n",
    "    print('even')\n"
   ]
  },
  {
   "cell_type": "code",
   "execution_count": 9,
   "metadata": {},
   "outputs": [
    {
     "name": "stdout",
     "output_type": "stream",
     "text": [
      "we can buy it\n"
     ]
    }
   ],
   "source": [
    "price = 1000\n",
    "if price > 2500:\n",
    "    print('expensive')\n",
    "else:\n",
    "    print('we can buy it')\n"
   ]
  },
  {
   "cell_type": "code",
   "execution_count": 20,
   "metadata": {},
   "outputs": [
    {
     "name": "stdout",
     "output_type": "stream",
     "text": [
      "789/600=131.50%\n",
      "grade: a\n"
     ]
    }
   ],
   "source": [
    "marks = int(input('enter your marks'))\n",
    "total= 600\n",
    "pct = marks/total*100\n",
    "print(f'{marks}/{total}={pct:.2f}%')\n",
    "if pct > 90:\n",
    "    grade ='a'\n",
    "elif pct >=75:\n",
    "    grade = \"b\"\n",
    "elif pct >=60:\n",
    "    grade ='c'\n",
    "elif pct >= 40:\n",
    "    grade ='D'\n",
    "else:\n",
    "    grade='F'\n",
    "print(f'grade: {grade}')            \n",
    "\n",
    "\n"
   ]
  },
  {
   "cell_type": "code",
   "execution_count": 23,
   "metadata": {},
   "outputs": [
    {
     "name": "stdout",
     "output_type": "stream",
     "text": [
      "what is the ccapital of bihar?\n",
      "invalid answer\n"
     ]
    }
   ],
   "source": [
    "print(\"what is the capital of bihar?\")\n",
    "ans = input('your answer:')\n",
    "match ans:\n",
    "    case 'delhi':\n",
    "        print('incorrect')\n",
    "    case \"patna\"|\"Patna\":\n",
    "        print(\"correct\")\n",
    "    case _:\n",
    "        print('invalid answer')\n",
    "       "
   ]
  },
  {
   "cell_type": "markdown",
   "metadata": {},
   "source": [
    "LOOPS\n",
    "- Iteration based for \n",
    "-condition based while"
   ]
  },
  {
   "cell_type": "code",
   "execution_count": 5,
   "metadata": {},
   "outputs": [],
   "source": [
    "movies = [\n",
    "    \"The Shawshank Redemption\",\n",
    "    \"The Godfather\",\n",
    "    \"Pulp Fiction\",\n",
    "    \"The Dark Knight\",\n",
    "    \"Schindler's List\",\n",
    "    \"Forrest Gump\",\n",
    "    \"The Lord of the Rings: The Fellowship of the Ring\",\n",
    "    \"Fight Club\",\n",
    "    \"Goodfellas\",\n",
    "    \"The Matrix\",\n",
    "    \"Star Wars: Episode IV - A New Hope\",\n",
    "    \"Inception\",\n",
    "    \"The Silence of the Lambs\",\n",
    "    \"The Lion King\",\n",
    "    \"Titanic\",\n",
    "    \"Saving Private Ryan\",\n",
    "    \"The Green Mile\",\n",
    "    \"Gladiator\",\n",
    "    \"The Departed\",\n",
    "    \"The Godfather: Part II\",\n",
    "    \"The Lord of the Rings: The Return of the King\",\n",
    "    \"The Prestige\",\n",
    "    \"The Avengers\",\n",
    "    \"Jurassic Park\",\n",
    "    \"The Sixth Sense\",\n",
    "    \"Avatar\",\n",
    "    \"Schindler's List\",\n",
    "    \"The Usual Suspects\",\n",
    "    \"The Terminator\",\n",
    "    \"The Truman Show\",\n",
    "    \"The Social Network\",\n",
    "    \"Se7en\",\n",
    "    \"Braveheart\",\n",
    "    \"The Princess Bride\",\n",
    "    \"Back to the Future\",\n",
    "    \"The Grand Budapest Hotel\",\n",
    "    \"Interstellar\",\n",
    "    \"The Breakfast Club\",\n",
    "    \"Raiders of the Lost Ark\",\n",
    "    \"Toy Story\",\n",
    "    \"The Shining\",\n",
    "    \"Django Unchained\",\n",
    "    \"The Godfather: Part III\",\n",
    "    \"Eternal Sunshine of the Spotless Mind\",\n",
    "    \"12 Angry Men\",\n",
    "    \"The Wizard of Oz\",\n",
    "    \"Casablanca\",\n",
    "    \"Gone with the Wind\",\n",
    "    \"City of God\",\n",
    "    \"La La Land\"\n",
    "]\n"
   ]
  },
  {
   "cell_type": "markdown",
   "metadata": {},
   "source": [
    "for item in iterable:\n",
    "    statement 1\n",
    "    ....\n",
    "    statement 2"
   ]
  },
  {
   "cell_type": "code",
   "execution_count": null,
   "metadata": {},
   "outputs": [],
   "source": [
    "for i in movies:\n",
    "    print(i)"
   ]
  },
  {
   "cell_type": "code",
   "execution_count": 7,
   "metadata": {},
   "outputs": [
    {
     "name": "stdout",
     "output_type": "stream",
     "text": [
      "12\n",
      "33\n",
      "24\n",
      "22\n",
      "54\n"
     ]
    }
   ],
   "source": [
    "for i in [12,33,24,22,54]:\n",
    "    print(i)"
   ]
  },
  {
   "cell_type": "code",
   "execution_count": 8,
   "metadata": {},
   "outputs": [
    {
     "name": "stdout",
     "output_type": "stream",
     "text": [
      "10\n",
      "9\n",
      "8\n",
      "7\n",
      "6\n",
      "5\n",
      "4\n",
      "3\n",
      "2\n",
      "1\n"
     ]
    }
   ],
   "source": [
    "for i in range(10,0,-1):\n",
    "    print(i)"
   ]
  },
  {
   "cell_type": "code",
   "execution_count": 12,
   "metadata": {},
   "outputs": [
    {
     "name": "stdout",
     "output_type": "stream",
     "text": [
      "13\n",
      "26\n",
      "39\n",
      "52\n",
      "65\n",
      "78\n",
      "91\n",
      "104\n",
      "117\n",
      "130\n"
     ]
    }
   ],
   "source": [
    "for i in range(13,131,13):\n",
    "    print(i)"
   ]
  },
  {
   "cell_type": "code",
   "execution_count": 17,
   "metadata": {},
   "outputs": [],
   "source": [
    "for name in movies:\n",
    "    if 'the' in name.upper():\n",
    "        print(name)\n",
    "    "
   ]
  },
  {
   "cell_type": "code",
   "execution_count": 20,
   "metadata": {},
   "outputs": [
    {
     "name": "stdout",
     "output_type": "stream",
     "text": [
      "100\n"
     ]
    }
   ],
   "source": [
    "x = [2,2,2,2,2,90]\n",
    "total= 0\n",
    "for i in x:\n",
    "    total +=i\n",
    "print(total)"
   ]
  },
  {
   "cell_type": "code",
   "execution_count": 26,
   "metadata": {},
   "outputs": [
    {
     "name": "stdout",
     "output_type": "stream",
     "text": [
      "25 15511210043330985984000000\n"
     ]
    }
   ],
   "source": [
    "n =25\n",
    "fact = 1\n",
    "for i in range(2,n+1):\n",
    "    fact*=i\n",
    "print(i,fact)"
   ]
  },
  {
   "cell_type": "code",
   "execution_count": 29,
   "metadata": {},
   "outputs": [
    {
     "name": "stdout",
     "output_type": "stream",
     "text": [
      "very good\n"
     ]
    }
   ],
   "source": [
    "while True:\n",
    "    x= input('enter a number')\n",
    "    if x.isnumeric():\n",
    "        print('very good')\n",
    "        break\n",
    "    else:\n",
    "        print('invalid input')"
   ]
  }
 ],
 "metadata": {
  "kernelspec": {
   "display_name": "Python 3",
   "language": "python",
   "name": "python3"
  },
  "language_info": {
   "codemirror_mode": {
    "name": "ipython",
    "version": 3
   },
   "file_extension": ".py",
   "mimetype": "text/x-python",
   "name": "python",
   "nbconvert_exporter": "python",
   "pygments_lexer": "ipython3",
   "version": "3.11.5"
  }
 },
 "nbformat": 4,
 "nbformat_minor": 2
}
