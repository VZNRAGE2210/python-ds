{
 "cells": [
  {
   "cell_type": "code",
   "execution_count": 1,
   "metadata": {},
   "outputs": [],
   "source": [
    "import numpy as np"
   ]
  },
  {
   "cell_type": "code",
   "execution_count": 2,
   "metadata": {},
   "outputs": [
    {
     "name": "stdout",
     "output_type": "stream",
     "text": [
      "[[2 3 4 5]\n",
      " [6 8 9 2]]\n",
      "<class 'numpy.ndarray'>\n"
     ]
    }
   ],
   "source": [
    "x1 = np.array([\n",
    "    [2,3,4,5],\n",
    "    [6,8,9,2]])\n",
    "print(x1)\n",
    "print(type(x1))"
   ]
  },
  {
   "cell_type": "code",
   "execution_count": 3,
   "metadata": {},
   "outputs": [
    {
     "name": "stdout",
     "output_type": "stream",
     "text": [
      "[10.  10.5 11.  11.5 12.  12.5 13.  13.5 14.  14.5 15.  15.5 16.  16.5\n",
      " 17.  17.5 18.  18.5 19.  19.5 20.  20.5 21.  21.5 22.  22.5 23.  23.5\n",
      " 24.  24.5 25.  25.5 26.  26.5 27.  27.5 28.  28.5 29.  29.5 30.  30.5\n",
      " 31.  31.5 32.  32.5 33.  33.5 34.  34.5 35.  35.5 36.  36.5 37.  37.5\n",
      " 38.  38.5 39.  39.5 40.  40.5 41.  41.5 42.  42.5 43.  43.5 44.  44.5\n",
      " 45.  45.5 46.  46.5 47.  47.5 48.  48.5 49.  49.5 50.  50.5]\n",
      "(82,)\n"
     ]
    }
   ],
   "source": [
    "a = np.arange(10, 51 ,0.5)\n",
    "print(a)\n",
    "print(a.shape)# give the number of element in the array"
   ]
  },
  {
   "cell_type": "code",
   "execution_count": 4,
   "metadata": {},
   "outputs": [
    {
     "name": "stdout",
     "output_type": "stream",
     "text": [
      "[10.         10.1010101  10.2020202  10.3030303  10.4040404  10.50505051\n",
      " 10.60606061 10.70707071 10.80808081 10.90909091 11.01010101 11.11111111\n",
      " 11.21212121 11.31313131 11.41414141 11.51515152 11.61616162 11.71717172\n",
      " 11.81818182 11.91919192 12.02020202 12.12121212 12.22222222 12.32323232\n",
      " 12.42424242 12.52525253 12.62626263 12.72727273 12.82828283 12.92929293\n",
      " 13.03030303 13.13131313 13.23232323 13.33333333 13.43434343 13.53535354\n",
      " 13.63636364 13.73737374 13.83838384 13.93939394 14.04040404 14.14141414\n",
      " 14.24242424 14.34343434 14.44444444 14.54545455 14.64646465 14.74747475\n",
      " 14.84848485 14.94949495 15.05050505 15.15151515 15.25252525 15.35353535\n",
      " 15.45454545 15.55555556 15.65656566 15.75757576 15.85858586 15.95959596\n",
      " 16.06060606 16.16161616 16.26262626 16.36363636 16.46464646 16.56565657\n",
      " 16.66666667 16.76767677 16.86868687 16.96969697 17.07070707 17.17171717\n",
      " 17.27272727 17.37373737 17.47474747 17.57575758 17.67676768 17.77777778\n",
      " 17.87878788 17.97979798 18.08080808 18.18181818 18.28282828 18.38383838\n",
      " 18.48484848 18.58585859 18.68686869 18.78787879 18.88888889 18.98989899\n",
      " 19.09090909 19.19191919 19.29292929 19.39393939 19.49494949 19.5959596\n",
      " 19.6969697  19.7979798  19.8989899  20.        ]\n"
     ]
    }
   ],
   "source": [
    "b = np.linspace(10,20,100)\n",
    "print(b)"
   ]
  },
  {
   "cell_type": "code",
   "execution_count": 5,
   "metadata": {},
   "outputs": [
    {
     "name": "stdout",
     "output_type": "stream",
     "text": [
      "[[19 13 13 19 12]\n",
      " [13 17 17 12 18]\n",
      " [11 14 10 17 14]\n",
      " [13 14 10 15 18]\n",
      " [17 15 10 13 16]]\n"
     ]
    }
   ],
   "source": [
    "c = np.random.randint(10, 20,(5,5) )\n",
    "print(c)"
   ]
  },
  {
   "cell_type": "code",
   "execution_count": 6,
   "metadata": {},
   "outputs": [
    {
     "name": "stdout",
     "output_type": "stream",
     "text": [
      "[[40 20]\n",
      " [31 15]]\n",
      "6\n",
      "(2, 3)\n",
      "2\n",
      "int32\n"
     ]
    }
   ],
   "source": [
    "p = np.array([[2,4,6],[1,3,5]])\n",
    "q = np.array([[1,2],[5,1],[3,2]])\n",
    "print(p@q)\n",
    "print(p.size)\n",
    "print(p.shape)\n",
    "print(p.ndim) \n",
    "print(p.dtype)\n"
   ]
  },
  {
   "cell_type": "code",
   "execution_count": 7,
   "metadata": {},
   "outputs": [
    {
     "name": "stdout",
     "output_type": "stream",
     "text": [
      "[[37 38 21 31]\n",
      " [98 45 80 47]\n",
      " [48 26 29 45]\n",
      " [42 31 70 35]\n",
      " [90 25 49 37]]\n",
      "[37 38 21 31 98 45 80 47 48 26 29 45 42 31 70 35 90 25 49 37]\n",
      "[[37 38 21 31 98]\n",
      " [45 80 47 48 26]\n",
      " [29 45 42 31 70]\n",
      " [35 90 25 49 37]]\n"
     ]
    }
   ],
   "source": [
    "#methods\n",
    "x = np.random.randint(10,99,(4,5))\n",
    "print(x.reshape(5,4))\n",
    "print(x.reshape(20))\n",
    "print(x)"
   ]
  },
  {
   "cell_type": "code",
   "execution_count": 8,
   "metadata": {},
   "outputs": [
    {
     "name": "stdout",
     "output_type": "stream",
     "text": [
      "[37 38 21 31 98 45 80 47 48 26 29 45 42 31 70 35 90 25 49 37]\n"
     ]
    }
   ],
   "source": [
    "print(x.flatten()) # n dimensional array to 1 dimensional array\n"
   ]
  },
  {
   "cell_type": "markdown",
   "metadata": {},
   "source": [
    "maths and stats"
   ]
  },
  {
   "cell_type": "code",
   "execution_count": 9,
   "metadata": {},
   "outputs": [
    {
     "name": "stdout",
     "output_type": "stream",
     "text": [
      "[[3 6]\n",
      " [6 4]]\n",
      "[[ 1  2]\n",
      " [-4  2]]\n",
      "[[2.  2. ]\n",
      " [0.2 3. ]]\n",
      "[[2 8]\n",
      " [5 3]]\n",
      "[[22  8]\n",
      " [16  5]]\n"
     ]
    }
   ],
   "source": [
    "a1 = np.array([\n",
    "    [2,4],\n",
    "    [1,3],\n",
    "])\n",
    "b1 = np.array([\n",
    "    [1,2],\n",
    "    [5,1]\n",
    "])\n",
    "\n",
    "#addition \n",
    "print(a1 +b1)\n",
    "#subtraction\n",
    "print(a1-b1)\n",
    "#division\n",
    "print(a1/b1)\n",
    "# multiplication\n",
    "print(a1 * b1)\n",
    "# dot product\n",
    "print(a1 @ b1)"
   ]
  },
  {
   "cell_type": "code",
   "execution_count": 10,
   "metadata": {},
   "outputs": [
    {
     "name": "stdout",
     "output_type": "stream",
     "text": [
      "10\n",
      "[3 7]\n",
      "[6 4]\n",
      "4 1\n",
      "1 0\n"
     ]
    }
   ],
   "source": [
    "print(a1.sum())# summation  of all element\n",
    "print(a1.sum(axis=0)) # summation of each column\n",
    "print(a1.sum(axis=1)) # summation of each row\n",
    "\n",
    "#max and min \n",
    "\n",
    "print(a1.max(), b1.min())\n",
    "\n",
    "#argmax and argmin -> information about the index of the max and min \n",
    "\n",
    "print(a1.argmax(), b1.argmin())\n",
    "\n"
   ]
  },
  {
   "cell_type": "code",
   "execution_count": 11,
   "metadata": {},
   "outputs": [
    {
     "name": "stdout",
     "output_type": "stream",
     "text": [
      "[[72 10 72 79 38 19 72 58 61 86]\n",
      " [90 37 28 93 10 87 86 69 28 36]\n",
      " [71 94 84 44 15 65 19 35 65 17]\n",
      " [26 17 81 57 83 48 59 16 14 66]\n",
      " [45 79 14 88 60 28 43 56 69 51]\n",
      " [14 69 27 45 62 14 39 69 50 19]\n",
      " [42 71 23 32 93 62 62 17 38 44]\n",
      " [40 71 63 70 22 44 50 93 99 23]\n",
      " [60 44 39 93 33 66 53 64 59 34]\n",
      " [60 94 68 15 69 99 26 27 26 67]]\n"
     ]
    }
   ],
   "source": [
    "a2 = np.random.randint(10, 100,(10,10))\n",
    "print(a2)"
   ]
  },
  {
   "cell_type": "code",
   "execution_count": 12,
   "metadata": {},
   "outputs": [
    {
     "name": "stdout",
     "output_type": "stream",
     "text": [
      "72\n",
      "67\n",
      "[72 10 72 79 38 19 72 58 61 86]\n",
      "[60 94 68 15 69 99 26 27 26 67]\n",
      "[72 90 71 26 45 14 42 40 60 60]\n",
      "[86 36 17 66 51 19 44 23 34 67]\n",
      "[10 37 94 17 79]\n",
      "[45 32 70 93 15]\n",
      "[[72 10 72]\n",
      " [90 37 28]\n",
      " [71 94 84]\n",
      " [26 17 81]\n",
      " [45 79 14]\n",
      " [14 69 27]\n",
      " [42 71 23]\n",
      " [40 71 63]\n",
      " [60 44 39]\n",
      " [60 94 68]]\n",
      "[58 69 35 16 56 69 17 93 64 27]\n"
     ]
    }
   ],
   "source": [
    "print(a2[0, 0]) # first element\n",
    "print(a2[-1,-1])# last element\n",
    "print(a2[0]) # first row\n",
    "print(a2[-1])  # last row\n",
    "print(a2[:, 0]) # first column\n",
    "print(a2[:,-1]) # last column\n",
    "print(a2[:5,1])# first 5 rows of the second column \n",
    "print(a2[-5:,3]) # first 5 rows of the fourth column\n",
    "print(a2[:, :3]) # first 3 column\n",
    "print(a2[:, -3]) # last 3 column\n",
    "\n"
   ]
  },
  {
   "cell_type": "code",
   "execution_count": 13,
   "metadata": {},
   "outputs": [
    {
     "name": "stdout",
     "output_type": "stream",
     "text": [
      "(array([7], dtype=int64), array([2], dtype=int64))\n"
     ]
    }
   ],
   "source": [
    "# find index for 66\n",
    "print(np.where(a2==63))"
   ]
  },
  {
   "cell_type": "code",
   "execution_count": null,
   "metadata": {},
   "outputs": [],
   "source": []
  }
 ],
 "metadata": {
  "kernelspec": {
   "display_name": "Python 3",
   "language": "python",
   "name": "python3"
  },
  "language_info": {
   "codemirror_mode": {
    "name": "ipython",
    "version": 3
   },
   "file_extension": ".py",
   "mimetype": "text/x-python",
   "name": "python",
   "nbconvert_exporter": "python",
   "pygments_lexer": "ipython3",
   "version": "3.11.5"
  }
 },
 "nbformat": 4,
 "nbformat_minor": 2
}
