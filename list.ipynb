{
 "cells": [
  {
   "cell_type": "code",
   "execution_count": 3,
   "metadata": {},
   "outputs": [],
   "source": [
    "#list of strings\n",
    "list1=['achintya','sauhard','akchat','jay','anuj']\n",
    "#list of numbers\n",
    "list2=[1,2,3,45,6,7,]\n",
    "#mixed fruits list\n",
    "list3=['ravi',79,98,56,34,'8',True,2.43]\n",
    "#nested list\n",
    "list4=[[1,2,3],[4,5,6],[7,8,9]]\n"
   ]
  },
  {
   "cell_type": "code",
   "execution_count": 4,
   "metadata": {},
   "outputs": [],
   "source": [
    "data = [\n",
    "    'warbreaker',\n",
    "    'high',\n",
    "    'low',\n",
    "    '2018',\n",
    "    'vpn',\n",
    "    'fruitsbase'\n",
    "    ]"
   ]
  },
  {
   "cell_type": "code",
   "execution_count": 8,
   "metadata": {},
   "outputs": [
    {
     "name": "stdout",
     "output_type": "stream",
     "text": [
      "warbreaker\n",
      "high\n",
      "low\n",
      "2018\n",
      "vpn\n",
      "database\n"
     ]
    }
   ],
   "source": [
    "for item in data:\n",
    "    print(item)"
   ]
  },
  {
   "cell_type": "code",
   "execution_count": 11,
   "metadata": {},
   "outputs": [
    {
     "name": "stdout",
     "output_type": "stream",
     "text": [
      "vpn\n"
     ]
    }
   ],
   "source": [
    "print(data[4])"
   ]
  },
  {
   "cell_type": "code",
   "execution_count": 16,
   "metadata": {},
   "outputs": [
    {
     "name": "stdout",
     "output_type": "stream",
     "text": [
      "['warbreaker', 'high', 'low']\n",
      "['2018', 'vpn', 'database']\n",
      "['database', 'vpn', '2018', 'low', 'high', 'warbreaker']\n",
      "['warbreaker', 'low', 'vpn']\n"
     ]
    }
   ],
   "source": [
    "print(data[:3])  # first 3 element\n",
    "print(data[-3:])  # last 3 elements\n",
    "print(data[::-1])  # reverse\n",
    "print(data[::2])  # every other element\n",
    "\n"
   ]
  },
  {
   "cell_type": "code",
   "execution_count": 17,
   "metadata": {},
   "outputs": [
    {
     "name": "stdout",
     "output_type": "stream",
     "text": [
      "['2018', 'database', 'high', 'low', 'vpn', 'warbreaker']\n"
     ]
    }
   ],
   "source": [
    "data.sort()\n",
    "print(data)"
   ]
  },
  {
   "cell_type": "code",
   "execution_count": 18,
   "metadata": {},
   "outputs": [
    {
     "name": "stdout",
     "output_type": "stream",
     "text": [
      "['warbreaker', 'vpn', 'low', 'high', 'database', '2018']\n"
     ]
    }
   ],
   "source": [
    "data.sort(reverse=True)\n",
    "print(data)"
   ]
  },
  {
   "cell_type": "code",
   "execution_count": 19,
   "metadata": {},
   "outputs": [
    {
     "name": "stdout",
     "output_type": "stream",
     "text": [
      "['2018', 'database', 'high', 'low', 'vpn', 'warbreaker']\n"
     ]
    }
   ],
   "source": [
    "data.reverse()\n",
    "print(data)"
   ]
  },
  {
   "cell_type": "code",
   "execution_count": 26,
   "metadata": {},
   "outputs": [
    {
     "data": {
      "text/plain": [
       "2"
      ]
     },
     "execution_count": 26,
     "metadata": {},
     "output_type": "execute_result"
    }
   ],
   "source": [
    "data.index('high')\n"
   ]
  },
  {
   "cell_type": "code",
   "execution_count": 27,
   "metadata": {},
   "outputs": [
    {
     "data": {
      "text/plain": [
       "'vpn'"
      ]
     },
     "execution_count": 27,
     "metadata": {},
     "output_type": "execute_result"
    }
   ],
   "source": [
    "data[4]"
   ]
  },
  {
   "cell_type": "code",
   "execution_count": 32,
   "metadata": {},
   "outputs": [],
   "source": [
    "fruits=[]\n",
    "fruits.append(\"apple\")\n",
    "fruits.append('banana')\n",
    "fruits.append('cherry')\n",
    "fruits.append('guava')\n",
    "fruits.append('watermelon')\n",
    "fruits.append('dragonfruit')\n",
    "fruits.append('kiwi')\n",
    "fruits.append('avacado')\n",
    "fruits.append('mango')\n",
    "fruits.append('grape')\n",
    "fruits.append('orange')\n",
    "fruits.append('pinapple')\n",
    "fruits.append('pear')\n",
    "fruits.append('lemon')\n",
    "fruits.append('plum')"
   ]
  },
  {
   "cell_type": "code",
   "execution_count": 33,
   "metadata": {},
   "outputs": [
    {
     "name": "stdout",
     "output_type": "stream",
     "text": [
      "['apple', 'banana', 'pear', 'cherry', 'guava', 'watermelon', 'dragonfruit', 'kiwi', 'avacado', 'mango', 'grape', 'orange', 'pinapple', 'pear', 'lemon', 'plum']\n"
     ]
    }
   ],
   "source": [
    "#insert function\n",
    "fruits.insert(2,  'pear')\n",
    "print(fruits)"
   ]
  },
  {
   "cell_type": "code",
   "execution_count": 34,
   "metadata": {},
   "outputs": [
    {
     "name": "stdout",
     "output_type": "stream",
     "text": [
      "['apple', 'banana', 'pear', 'cherry', 'guava', 'watermelon', 'dragonfruit', 'kiwi', 'avacado', 'mango', 'grape', 'orange', 'pinapple', 'pear', 'lemon']\n"
     ]
    }
   ],
   "source": [
    "#remove function\n",
    "fruits.remove('plum')\n",
    "print(fruits)"
   ]
  },
  {
   "cell_type": "code",
   "execution_count": 38,
   "metadata": {},
   "outputs": [
    {
     "name": "stdout",
     "output_type": "stream",
     "text": [
      "['apple', 'pear', 'cherry', 'guava', 'watermelon', 'dragonfruit', 'kiwi', 'avacado', 'mango', 'grape', 'orange']\n"
     ]
    }
   ],
   "source": [
    "# pop function in list\n",
    "fruits.pop()\n",
    "print(fruits)"
   ]
  },
  {
   "cell_type": "code",
   "execution_count": 37,
   "metadata": {},
   "outputs": [
    {
     "name": "stdout",
     "output_type": "stream",
     "text": [
      "['apple', 'pear', 'cherry', 'guava', 'watermelon', 'dragonfruit', 'kiwi', 'avacado', 'mango', 'grape', 'orange', 'pinapple']\n"
     ]
    }
   ],
   "source": [
    "fruits.pop(1)\n",
    "print(fruits)"
   ]
  },
  {
   "cell_type": "code",
   "execution_count": null,
   "metadata": {},
   "outputs": [],
   "source": []
  },
  {
   "cell_type": "code",
   "execution_count": null,
   "metadata": {},
   "outputs": [],
   "source": []
  }
 ],
 "metadata": {
  "kernelspec": {
   "display_name": "Python 3",
   "language": "python",
   "name": "python3"
  },
  "language_info": {
   "codemirror_mode": {
    "name": "ipython",
    "version": 3
   },
   "file_extension": ".py",
   "mimetype": "text/x-python",
   "name": "python",
   "nbconvert_exporter": "python",
   "pygments_lexer": "ipython3",
   "version": "3.11.5"
  }
 },
 "nbformat": 4,
 "nbformat_minor": 2
}
