{
 "cells": [
  {
   "cell_type": "code",
   "execution_count": 1,
   "metadata": {},
   "outputs": [
    {
     "name": "stdout",
     "output_type": "stream",
     "text": [
      "(1, 2, 3)\n",
      "(2, 3, 4, 5)\n"
     ]
    }
   ],
   "source": [
    "x = (1,2,3)\n",
    "print(x)\n",
    "y = 2,3,4,5 #tuple packing\n",
    "print(y)"
   ]
  },
  {
   "cell_type": "code",
   "execution_count": 2,
   "metadata": {},
   "outputs": [
    {
     "name": "stdout",
     "output_type": "stream",
     "text": [
      "1\n",
      "2\n",
      "3\n"
     ]
    }
   ],
   "source": [
    "for i in x :\n",
    "    print(i)"
   ]
  },
  {
   "cell_type": "code",
   "execution_count": 4,
   "metadata": {},
   "outputs": [
    {
     "name": "stdout",
     "output_type": "stream",
     "text": [
      "1\n",
      "5\n",
      "(1, 2, 3, 4, 5, 6, 7, 8, 9)\n",
      "(1, 2, 3, 4, 5)\n",
      "(7, 8, 9)\n"
     ]
    }
   ],
   "source": [
    "print(x[0])\n",
    "print(y[-1])\n",
    "a = 1,2,3,4,5,6,7,8,9\n",
    "print(a)\n",
    "print(a[:5])\n",
    "print(a[-3:])"
   ]
  },
  {
   "cell_type": "code",
   "execution_count": 8,
   "metadata": {},
   "outputs": [
    {
     "name": "stdout",
     "output_type": "stream",
     "text": [
      "1\n",
      "0\n",
      "2\n",
      "5\n"
     ]
    }
   ],
   "source": [
    "# tuple has only two methods count and index\n",
    "print(a.count(1))# count till 1\n",
    "print(a.count(10)) # count till 10 \n",
    "print(a.index(3)) # index of three\n",
    "print(a.index(6)) # index of six\n"
   ]
  },
  {
   "cell_type": "markdown",
   "metadata": {},
   "source": [
    "                                                       SETS"
   ]
  },
  {
   "cell_type": "code",
   "execution_count": 9,
   "metadata": {},
   "outputs": [
    {
     "name": "stdout",
     "output_type": "stream",
     "text": [
      "{1, 2, 3, 4, 5, 6, 7}\n"
     ]
    }
   ],
   "source": [
    "a = {1,2,3,4,5,5,5,5,6,7}\n",
    "print(a)"
   ]
  },
  {
   "cell_type": "code",
   "execution_count": 11,
   "metadata": {},
   "outputs": [
    {
     "name": "stdout",
     "output_type": "stream",
     "text": [
      "{'apple', 'pineapple', 'orange', 'peach', 'kiwi', 'mango', 'watermelon', 'strawberry', 'grape', 'banana'}\n"
     ]
    }
   ],
   "source": [
    "b = {\"apple\", \"banana\", \"orange\", \"grape\", \"strawberry\", \"watermelon\", \"kiwi\", \"pineapple\", \"mango\", \"peach\"}\n",
    "print(b)\n"
   ]
  },
  {
   "cell_type": "code",
   "execution_count": 16,
   "metadata": {},
   "outputs": [
    {
     "name": "stdout",
     "output_type": "stream",
     "text": [
      "{'apple', 'pineapple', 'orange', 'peach', 'kiwi', 'mango', 'watermelon', 'strawberry', 'banana', 'guava'}\n"
     ]
    }
   ],
   "source": [
    "b.add('guava')\n",
    "b.discard('grape')\n",
    "print(b)"
   ]
  },
  {
   "cell_type": "code",
   "execution_count": 17,
   "metadata": {},
   "outputs": [
    {
     "name": "stdout",
     "output_type": "stream",
     "text": [
      "{1, 2, 3, 4, 5, 6, 7, 8, 9}\n",
      "{1, 2, 3, 4, 5, 6, 7, 8, 9}\n",
      "{4}\n",
      "{4}\n",
      "{1, 2, 3, 5}\n",
      "{1, 2, 3, 5}\n",
      "{8, 9, 6, 7}\n"
     ]
    }
   ],
   "source": [
    "# operation in set\n",
    "x =  {1, 2, 3,4,5}\n",
    "y  = {4,6,7,8,9}\n",
    "print(x | y) # join of x and y & remove elements\n",
    "print(x.union(y))# intersection\n",
    "print(x & y)# commom element in x and y \n",
    "print(x.intersection(y))#diffrence\n",
    "print(x-y)#elements of x not in y\n",
    "print(x.difference(y))\n",
    "print(y-x)#element of y not in x"
   ]
  },
  {
   "cell_type": "code",
   "execution_count": 18,
   "metadata": {},
   "outputs": [
    {
     "name": "stdout",
     "output_type": "stream",
     "text": [
      "{1, 2, 3, 5, 6, 7, 8, 9}\n"
     ]
    }
   ],
   "source": [
    "# symmetric diffrence\n",
    "print(x ^ y)  # element in x & y but not in both\n"
   ]
  },
  {
   "cell_type": "code",
   "execution_count": null,
   "metadata": {},
   "outputs": [],
   "source": []
  }
 ],
 "metadata": {
  "kernelspec": {
   "display_name": "Python 3",
   "language": "python",
   "name": "python3"
  },
  "language_info": {
   "codemirror_mode": {
    "name": "ipython",
    "version": 3
   },
   "file_extension": ".py",
   "mimetype": "text/x-python",
   "name": "python",
   "nbconvert_exporter": "python",
   "pygments_lexer": "ipython3",
   "version": "3.11.5"
  }
 },
 "nbformat": 4,
 "nbformat_minor": 2
}
